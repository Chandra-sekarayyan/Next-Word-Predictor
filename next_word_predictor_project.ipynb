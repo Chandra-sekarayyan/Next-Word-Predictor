{
  "nbformat": 4,
  "nbformat_minor": 0,
  "metadata": {
    "colab": {
      "provenance": [],
      "gpuType": "T4",
      "authorship_tag": "ABX9TyO93/XvARadKDSXWoVLoAk5"
    },
    "kernelspec": {
      "name": "python3",
      "display_name": "Python 3"
    },
    "language_info": {
      "name": "python"
    },
    "accelerator": "GPU"
  },
  "cells": [
    {
      "cell_type": "markdown",
      "source": [
        "# **Next Word Prediction**"
      ],
      "metadata": {
        "id": "wqfdf0qRLJmC"
      }
    },
    {
      "cell_type": "code",
      "source": [
        "from IPython.display import display\n",
        "import ipywidgets as widgets"
      ],
      "metadata": {
        "id": "SIFI8Bxoq_ig"
      },
      "execution_count": null,
      "outputs": []
    },
    {
      "cell_type": "code",
      "source": [
        "from google.colab import drive\n",
        "drive.mount('/content/drive')"
      ],
      "metadata": {
        "id": "Q4jHK53kQra3"
      },
      "execution_count": null,
      "outputs": []
    },
    {
      "cell_type": "code",
      "source": [
        "from typing import Text\n",
        "with open(\"/content/drive/MyDrive/Colab Notebooks/dataset.txt\", \"r\", encoding=\"utf-8\") as file:\n",
        "    text = file.read()\n",
        "text = text.replace(\"_\", \"\").replace(\"\\n\", \" \").replace(\",\",\"\").replace(\"?\",\"\").replace(\"\\\"\",\"\").replace(\"\\'\",\"\")\n",
        "print(text)"
      ],
      "metadata": {
        "id": "tZ4hb7fMlROW"
      },
      "execution_count": null,
      "outputs": []
    },
    {
      "cell_type": "code",
      "source": [
        "import numpy as np\n",
        "from tensorflow.keras.preprocessing.text import Tokenizer\n",
        "from tensorflow.keras.preprocessing.sequence import pad_sequences\n",
        "tokenizer = Tokenizer()\n",
        "tokenizer.fit_on_texts([text])\n",
        "total_words = len(tokenizer.word_index) + 1\n",
        "print(total_words)\n",
        "corpus=text.split(\".\")"
      ],
      "metadata": {
        "id": "qXbGb_ILmAdj"
      },
      "execution_count": null,
      "outputs": []
    },
    {
      "cell_type": "code",
      "source": [
        "input_sequences = []\n",
        "for line in corpus:\n",
        "    token_list = tokenizer.texts_to_sequences([line])[0]\n",
        "    for i in range(1, len(token_list)):\n",
        "        n_gram_sequence = token_list[:i+1]\n",
        "        input_sequences.append(n_gram_sequence)"
      ],
      "metadata": {
        "id": "a5dWCtmVKNms"
      },
      "execution_count": null,
      "outputs": []
    },
    {
      "cell_type": "code",
      "source": [
        "from keras.utils import to_categorical\n",
        "input_sequences = []\n",
        "for line in corpus: # Use 'data' instead of 'text'\n",
        "    token_list = tokenizer.texts_to_sequences([line])[0]\n",
        "    for i in range(1, len(token_list)):\n",
        "        ngram_seq = token_list[:i+1]\n",
        "        input_sequences.append(ngram_seq)"
      ],
      "metadata": {
        "id": "NGnrs7L2mE-X"
      },
      "execution_count": null,
      "outputs": []
    },
    {
      "cell_type": "code",
      "source": [
        "max_seq_len = max([len(seq) for seq in input_sequences])\n",
        "input_sequences = np.array(pad_sequences(input_sequences, maxlen=max_seq_len, padding='pre'))\n",
        "X = input_sequences[:, :-1]\n",
        "y = input_sequences[:, -1]\n",
        "y = to_categorical(y, num_classes=total_words)"
      ],
      "metadata": {
        "id": "XCzsiOllG4DN"
      },
      "execution_count": null,
      "outputs": []
    },
    {
      "cell_type": "code",
      "source": [
        "from tensorflow.keras.models import Sequential\n",
        "from tensorflow.keras.layers import Embedding, LSTM, Dense\n",
        "\n",
        "model = Sequential([\n",
        "    Embedding(input_dim=total_words, output_dim=32),\n",
        "    LSTM(100),\n",
        "    Dense(total_words, activation='softmax')\n",
        "])\n",
        "model.build(input_shape=(None, max_seq_len-1))\n",
        "\n",
        "model.compile(loss='categorical_crossentropy', optimizer='adam', metrics=['accuracy'])\n",
        "model.summary()"
      ],
      "metadata": {
        "id": "ooXVLv1KmGbU"
      },
      "execution_count": null,
      "outputs": []
    },
    {
      "cell_type": "code",
      "source": [
        "history = model.fit(X, y, epochs=50, verbose=1)"
      ],
      "metadata": {
        "id": "acgYTBE6NEcg"
      },
      "execution_count": null,
      "outputs": []
    },
    {
      "cell_type": "code",
      "source": [
        "loss, accuracy = model.evaluate(X, y)\n",
        "print(f\"Test Accuracy: {accuracy * 100:.2f}%\")"
      ],
      "metadata": {
        "id": "D1-xUv2FN2GT"
      },
      "execution_count": null,
      "outputs": []
    },
    {
      "cell_type": "code",
      "source": [
        "import pickle\n",
        "with open('/content/drive/MyDrive/Colab Notebooks/tokenizer_and_max_seq_len.pkl', 'wb') as f:\n",
        "    pickle.dump({'tokenizer': tokenizer, 'max_seq_len': max_seq_len}, f)\n",
        "\n",
        "model.save('/content/drive/MyDrive/Colab Notebooks/trained_model.keras')"
      ],
      "metadata": {
        "id": "sg95AutSQxd_"
      },
      "execution_count": null,
      "outputs": []
    },
    {
      "cell_type": "code",
      "source": [
        "import numpy as np\n",
        "\n",
        "def predict_top_n(seed_text, top_n=1):\n",
        "    \"\"\"\n",
        "    Predicts the top N next words for a given seed text.\n",
        "\n",
        "    Args:\n",
        "        seed_text (str): The input text to predict the next word for.\n",
        "        top_n (int): The number of top predictions to return.\n",
        "\n",
        "    Returns:\n",
        "        list: A list of tuples, where each tuple contains the predicted word\n",
        "              and its probability, sorted by probability in descending order.\n",
        "    \"\"\"\n",
        "    token_list = tokenizer.texts_to_sequences([seed_text])[0]\n",
        "    token_list = pad_sequences([token_list], maxlen=max_seq_len-1, padding='pre')\n",
        "    predicted_probs = model.predict(token_list, verbose=0)[0]\n",
        "\n",
        "    top_n_indices = np.argsort(predicted_probs)[::-1][:top_n]\n",
        "\n",
        "    predictions = []\n",
        "    for index in top_n_indices:\n",
        "        predicted_word = tokenizer.index_word[index]\n",
        "        probability = predicted_probs[index]\n",
        "        predictions.append((predicted_word, probability))\n",
        "\n",
        "    return predictions"
      ],
      "metadata": {
        "id": "GOHkMA2BTJiO"
      },
      "execution_count": null,
      "outputs": []
    },
    {
      "cell_type": "code",
      "source": [
        "input_box = widgets.Text(\n",
        "    value='',\n",
        "    placeholder='Type your sentence...',\n",
        "    description='Input:',\n",
        "    disabled=False,\n",
        "    layout=widgets.Layout(width='90%')\n",
        ")\n",
        "\n",
        "output_box = widgets.Output()\n",
        "\n",
        "def on_text_change(change):\n",
        "    output_box.clear_output()\n",
        "    seed = change['new']\n",
        "    if len(seed.strip().split()) == 0:\n",
        "        return\n",
        "\n",
        "    with output_box:\n",
        "        predictions = predict_top_n(seed, top_n=5)\n",
        "        print(\"Predicted next words with probabilities:\")\n",
        "        for word, prob in predictions:\n",
        "            print(f\"🔹 {word}: {prob:.4f}\")\n",
        "\n",
        "        options = [word for word, _ in predictions]\n",
        "        dropdown = widgets.Dropdown(\n",
        "            options=options,\n",
        "            description='Choose:',\n",
        "            layout=widgets.Layout(width='50%')\n",
        "        )\n",
        "\n",
        "        def on_select_change(change):\n",
        "            full = seed + ' ' + change['new']\n",
        "            print(f\"\\n✅ Full sentence: {full}\")\n",
        "\n",
        "        dropdown.observe(on_select_change, names='value')\n",
        "        display(dropdown)\n",
        "\n",
        "input_box.observe(on_text_change, names='value')\n",
        "\n",
        "display(input_box, output_box)"
      ],
      "metadata": {
        "id": "M7jmGG4umjPp"
      },
      "execution_count": null,
      "outputs": []
    }
  ]
}